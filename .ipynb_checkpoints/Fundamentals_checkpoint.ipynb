{
 "cells": [
  {
   "cell_type": "code",
   "execution_count": 1,
   "id": "f39a397e-1c6a-4492-8cf6-88270ab30fb4",
   "metadata": {},
   "outputs": [
    {
     "name": "stdout",
     "output_type": "stream",
     "text": [
      "Requirement already satisfied: carla in c:\\users\\imiwu\\appdata\\local\\packages\\pythonsoftwarefoundation.python.3.8_qbz5n2kfra8p0\\localcache\\local-packages\\python38\\site-packages (0.9.15)\n",
      "Note: you may need to restart the kernel to use updated packages.\n",
      "Requirement already satisfied: numpy in c:\\users\\imiwu\\appdata\\local\\packages\\pythonsoftwarefoundation.python.3.8_qbz5n2kfra8p0\\localcache\\local-packages\\python38\\site-packages (1.24.4)\n",
      "Note: you may need to restart the kernel to use updated packages.\n",
      "Requirement already satisfied: opencv-python in c:\\users\\imiwu\\appdata\\local\\packages\\pythonsoftwarefoundation.python.3.8_qbz5n2kfra8p0\\localcache\\local-packages\\python38\\site-packages (4.10.0.84)\n",
      "Requirement already satisfied: numpy>=1.17.0 in c:\\users\\imiwu\\appdata\\local\\packages\\pythonsoftwarefoundation.python.3.8_qbz5n2kfra8p0\\localcache\\local-packages\\python38\\site-packages (from opencv-python) (1.24.4)\n",
      "Note: you may need to restart the kernel to use updated packages.\n",
      "Requirement already satisfied: pygame in c:\\users\\imiwu\\appdata\\local\\packages\\pythonsoftwarefoundation.python.3.8_qbz5n2kfra8p0\\localcache\\local-packages\\python38\\site-packages (2.6.0)\n",
      "Note: you may need to restart the kernel to use updated packages.\n"
     ]
    }
   ],
   "source": [
    "%pip install carla\n",
    "%pip install numpy\n",
    "%pip install opencv-python\n",
    "%pip install pygame"
   ]
  },
  {
   "cell_type": "code",
   "execution_count": 2,
   "id": "2a25e871-c63d-47c7-9443-872d53c00dce",
   "metadata": {},
   "outputs": [
    {
     "name": "stdout",
     "output_type": "stream",
     "text": [
      "pygame 2.6.0 (SDL 2.28.4, Python 3.8.10)\n",
      "Hello from the pygame community. https://www.pygame.org/contribute.html\n"
     ]
    }
   ],
   "source": [
    "# Import the CARLA Python API library and some utils\n",
    "import carla \n",
    "import math \n",
    "import random \n",
    "import time \n",
    "import numpy as np\n",
    "import cv2\n",
    "import pygame\n",
    "import json"
   ]
  },
  {
   "cell_type": "code",
   "execution_count": 3,
   "id": "aa8c85ee-1a54-4dc0-a79c-709228570d1a",
   "metadata": {},
   "outputs": [],
   "source": [
    "# Connect to the client and get the world object\n",
    "client = carla.Client('localhost', 2000) \n",
    "client.set_timeout(40.0)\n",
    "#print(client.get_available_maps())\n",
    "world = client.get_world()\n",
    "\n",
    "def process_img(image):\n",
    "    i = np.array(image.raw_data)\n",
    "    i2 = i.reshape((640, 640, 4))\n",
    "    i3 = i2[:, :, :3]\n",
    "    cv2.imshow(\"\", i3)\n",
    "    cv2.waitKey(1)\n",
    "    return i3/255.0"
   ]
  },
  {
   "cell_type": "code",
   "execution_count": 4,
   "id": "4dc96c16",
   "metadata": {},
   "outputs": [],
   "source": [
    "# world = client.load_world('/Game/Carla/Maps/Town10HD_Opt')"
   ]
  },
  {
   "cell_type": "code",
   "execution_count": 5,
   "id": "42a1ddcc-d6df-4bbd-b904-15ed03739766",
   "metadata": {},
   "outputs": [],
   "source": [
    "# Get the blueprint library and the spawn points for the map\n",
    "bp_lib = world.get_blueprint_library() \n",
    "spawn_points = world.get_map().get_spawn_points() "
   ]
  },
  {
   "cell_type": "code",
   "execution_count": 6,
   "id": "71e73030-a065-4ac8-9bdb-dba8006d68d7",
   "metadata": {},
   "outputs": [],
   "source": [
    "# Get the blueprint for the vehicle you want\n",
    "vehicle_bp = bp_lib.find('vehicle.lincoln.mkz_2020') \n",
    "\n",
    "# Try spawning the vehicle at a randomly chosen spawn point\n",
    "vehicle = world.try_spawn_actor(vehicle_bp, random.choice(spawn_points))\n"
   ]
  },
  {
   "cell_type": "code",
   "execution_count": 7,
   "id": "abf75d09",
   "metadata": {},
   "outputs": [],
   "source": [
    "# Ego vehicle\n",
    "ego_vehicle_bp = bp_lib.find('vehicle.lincoln.mkz_2020')\n",
    "ego_vehicle = world.try_spawn_actor(ego_vehicle_bp, random.choice(spawn_points))\n",
    "ego_vehicle.apply_control(carla.VehicleControl(throttle=1.0, steer=0.0))"
   ]
  },
  {
   "cell_type": "code",
   "execution_count": 8,
   "id": "c765d8ae-09cb-4790-aeaf-802626753d9e",
   "metadata": {},
   "outputs": [],
   "source": [
    "# Move the spectator behind the vehicle \n",
    "spectator = world.get_spectator()\n",
    "transform = carla.Transform(ego_vehicle.get_transform().transform(carla.Location(x=-4,z=2.5)),ego_vehicle.get_transform().rotation) \n",
    "spectator.set_transform(transform) "
   ]
  },
  {
   "cell_type": "code",
   "execution_count": 9,
   "id": "e27a72f9-ada0-43a2-8f73-037d974b915a",
   "metadata": {},
   "outputs": [],
   "source": [
    "# Add traffic to the simulation\n",
    "for i in range(30): \n",
    "    vehicle_bp = random.choice(bp_lib.filter('vehicle')) \n",
    "    npc = world.try_spawn_actor(vehicle_bp, random.choice(spawn_points)) "
   ]
  },
  {
   "cell_type": "code",
   "execution_count": 10,
   "id": "6fac134a-68c5-42b0-a2a7-f344e6a17d8c",
   "metadata": {},
   "outputs": [],
   "source": [
    "# Set the all vehicles in motion using the Traffic Manager\n",
    "for v in world.get_actors().filter('*vehicle*'): \n",
    "    v.set_autopilot(True) "
   ]
  },
  {
   "cell_type": "markdown",
   "id": "da35878d",
   "metadata": {},
   "source": [
    "# Weather properties\n",
    "\n",
    "weather = world.get_weather()\n",
    "weather.cloudiness = 0\n",
    "weather.precipitation = 0\n",
    "weather.precipitation_deposits = 0\n",
    "weather.wind_intensity = 0\n",
    "weather.fog_density = 0\n",
    "weather.rain = 0\n",
    "weather.wetness = 0\n",
    "weather.sun_azimuth_angle = 0\n",
    "weather.sun_altitude_angle = 0\n",
    "world.set_weather(weather)"
   ]
  },
  {
   "cell_type": "code",
   "execution_count": 11,
   "id": "f7df2513-eda0-4d59-b216-aa91b928dc1a",
   "metadata": {},
   "outputs": [],
   "source": [
    "# Spawn an RGB cammera with an offset from the vehicle center\n",
    "camera_bp = bp_lib.find('sensor.camera.rgb') \n",
    "camera_bp.set_attribute('image_size_x', '640')\n",
    "camera_bp.set_attribute('image_size_y', '640')\n",
    "camera_bp.set_attribute('sensor_tick', '0.1')\n",
    "camera_init_trans = carla.Transform(carla.Location(z=2))\n",
    "camera = world.spawn_actor(camera_bp, camera_init_trans, attach_to=ego_vehicle, attachment_type=carla.AttachmentType.Rigid)\n",
    "\n",
    "radar_bp = bp_lib.find('sensor.other.radar') \n",
    "radar_bp.set_attribute('horizontal_fov', '35')\n",
    "radar_bp.set_attribute('vertical_fov', '20')\n",
    "radar_bp.set_attribute('range', '30')\n",
    "radar_bp.set_attribute('sensor_tick', '10')\n",
    "radar_init_trans = carla.Transform(carla.Location(x=0.5, z=1.0))\n",
    "radar = world.spawn_actor(radar_bp, radar_init_trans, attach_to=ego_vehicle, attachment_type=carla.AttachmentType.Rigid)\n",
    "\n",
    "lidar_bp = bp_lib.find('sensor.lidar.ray_cast') \n",
    "lidar_bp.set_attribute('range', '30')\n",
    "lidar_bp.set_attribute('sensor_tick', '10')\n",
    "lidar_init_trans = carla.Transform(carla.Location(x=0.5, z=1.0))\n",
    "lidar = world.spawn_actor(lidar_bp, lidar_init_trans, attach_to=ego_vehicle, attachment_type=carla.AttachmentType.Rigid)\n",
    "\n",
    "gnss_bp = bp_lib.find('sensor.other.gnss')\n",
    "gnss_bp.set_attribute('sensor_tick', '0.5')\n",
    "gnss_init_trans = carla.Transform(carla.Location(x=1.6, z=1.7))\n",
    "gnss = world.spawn_actor(gnss_bp, gnss_init_trans, attach_to=ego_vehicle, attachment_type=carla.AttachmentType.Rigid)\n",
    "\n",
    "imu_bp = bp_lib.find('sensor.other.imu')\n",
    "imu_bp.set_attribute('sensor_tick', '0.5')\n",
    "imu_init_trans = carla.Transform(carla.Location(x=0.5, z=1.7))\n",
    "imu = world.spawn_actor(imu_bp, imu_init_trans, attach_to=ego_vehicle, attachment_type=carla.AttachmentType.Rigid)\n"
   ]
  },
  {
   "cell_type": "markdown",
   "id": "62bdd91e",
   "metadata": {},
   "source": [
    "# Add a new radar sensor to my ego\n",
    "# --------------\n",
    "rad_cam = None\n",
    "rad_bp = world.get_blueprint_library().find('sensor.other.radar')\n",
    "rad_bp.set_attribute('horizontal_fov', str(35))\n",
    "rad_bp.set_attribute('vertical_fov', str(20))\n",
    "rad_bp.set_attribute('range', str(20))\n",
    "rad_location = carla.Location(x=2.0, z=1.0)\n",
    "rad_rotation = carla.Rotation(pitch=5)\n",
    "rad_transform = carla.Transform(rad_location,rad_rotation)\n",
    "rad_ego = world.spawn_actor(rad_bp,rad_transform,attach_to=ego_vehicle, attachment_type=carla.AttachmentType.Rigid)\n",
    "def rad_callback(radar_data):\n",
    "    velocity_range = 7.5 # m/s\n",
    "    current_rot = radar_data.transform.rotation\n",
    "    for detect in radar_data:\n",
    "        azi = math.degrees(detect.azimuth)\n",
    "        alt = math.degrees(detect.altitude)\n",
    "        # The 0.25 adjusts a bit the distance so the dots can\n",
    "        # be properly seen\n",
    "        fw_vec = carla.Vector3D(x=detect.depth - 0.25)\n",
    "        carla.Transform(\n",
    "            carla.Location(),\n",
    "            carla.Rotation(\n",
    "                pitch=current_rot.pitch + alt,\n",
    "                yaw=current_rot.yaw + azi,\n",
    "                roll=current_rot.roll)).transform(fw_vec)\n",
    "\n",
    "        def clamp(min_v, max_v, value):\n",
    "            return max(min_v, min(value, max_v))\n",
    "\n",
    "        norm_velocity = detect.velocity / velocity_range # range [-1, 1]\n",
    "        r = int(clamp(0.0, 1.0, 1.0 - norm_velocity) * 255.0)\n",
    "        g = int(clamp(0.0, 1.0, 1.0 - abs(norm_velocity)) * 255.0)\n",
    "        b = int(abs(clamp(- 1.0, 0.0, - 1.0 - norm_velocity)) * 255.0)\n",
    "        world.debug.draw_point(\n",
    "            radar_data.transform.location + fw_vec,\n",
    "            size=0.075,\n",
    "            life_time=0.06,\n",
    "            persistent_lines=False,\n",
    "            color=carla.Color(r, g, b))\n",
    "rad_ego.listen(lambda radar_data: rad_callback(radar_data))"
   ]
  },
  {
   "cell_type": "markdown",
   "id": "e2f22fae",
   "metadata": {},
   "source": [
    "pygame.init() #initialising\n",
    "\n",
    "# Set up the Pygame display\n",
    "size = (640, 640)\n",
    "pygame.display.set_caption(\"CARLA Manual Control\")\n",
    "screen = pygame.display.set_mode(size)\n",
    "\n",
    "# Set up the control object and loop until the user exits the script\n",
    "control = carla.VehicleControl()\n",
    "clock = pygame.time.Clock()\n",
    "done = False\n",
    "\n",
    "while not done:\n",
    "    # Get keyboard input and handle it\n",
    "    keys = pygame.key.get_pressed() \n",
    "    \n",
    "    # The values are directly from the manual control code which we ran in the\n",
    "    # last post. Just implemented just the throttle, brake and steer\n",
    "    # You can add reverse and gear shifting features directly from that code\n",
    "\n",
    "    if keys[pygame.K_UP] or keys[pygame.K_w]:\n",
    "        control.throttle = min(control.throttle + 0.05, 1.0)\n",
    "    else:\n",
    "        control.throttle = 0.0\n",
    "\n",
    "    if keys[pygame.K_DOWN] or keys[pygame.K_s]:\n",
    "        control.brake = min(control.brake + 0.2, 1.0)\n",
    "    else:\n",
    "        control.brake = 0.0\n",
    "\n",
    "    if keys[pygame.K_LEFT] or keys[pygame.K_a]:\n",
    "        control.steer = max(control.steer - 0.05, -1.0)\n",
    "    elif keys[pygame.K_RIGHT] or keys[pygame.K_d]:\n",
    "        control.steer = min(control.steer + 0.05, 1.0)\n",
    "    else:\n",
    "        control.steer = 0.0\n",
    "\n",
    "    control.hand_brake = keys[pygame.K_SPACE]\n",
    "\n",
    "    # Apply the control to the ego vehicle and tick the simulation\n",
    "    ego_vehicle.apply_control(control)\n",
    "    world.tick()\n",
    "\n",
    "    # Update the display and check for the quit event\n",
    "    pygame.display.flip()\n",
    "    pygame.display.update()\n",
    "    for event in pygame.event.get():\n",
    "        if event.type == pygame.QUIT:\n",
    "            done = True\n",
    "\n",
    "    # Sleep to ensure consistent loop timing\n",
    "    clock.tick(60)"
   ]
  },
  {
   "cell_type": "markdown",
   "id": "f449d543",
   "metadata": {},
   "source": [
    "# For manual control\n",
    "\n",
    "rgb_view_bp = bp_lib.find('sensor.camera.rgb')\n",
    "rgb_view_bp.set_attribute('image_size_x', '800')\n",
    "rgb_view_bp.set_attribute('image_size_y', '600')\n",
    "rgb_init_trans = carla.Transform(carla.Location(x=1.6, z=1.7))\n",
    "rgb_view = world.spawn_actor(rgb_view_bp, rgb_init_trans, attach_to=vehicle, attachment_type=carla.AttachmentType.Rigid)\n",
    "\n",
    "gnss_bp = bp_lib.find('sensor.other.gnss')\n",
    "gnss_bp.set_attribute('sensor_tick', '10')\n",
    "gnss_init_trans = carla.Transform(carla.Location(x=1.6, z=1.7))\n",
    "gnss = world.spawn_actor(gnss_bp, gnss_init_trans, attach_to=vehicle, attachment_type=carla.AttachmentType.Rigid)\n",
    "\n",
    "lane_invasion_bp = bp_lib.find('sensor.other.lane_invasion')\n",
    "lane_invasion_init_trans = carla.Transform(carla.Location(x=1.6, z=1.7))\n",
    "lane_invasion = world.spawn_actor(lane_invasion_bp, lane_invasion_init_trans, attach_to=vehicle, attachment_type=carla.AttachmentType.Rigid)\n",
    "\n",
    "collision_bp = bp_lib.find('sensor.other.collision')\n",
    "collision_init_trans = carla.Transform(carla.Location(x=1.6, z=1.7))\n",
    "collision = world.spawn_actor(collision_bp, collision_init_trans, attach_to=vehicle, attachment_type=carla.AttachmentType.Rigid)"
   ]
  },
  {
   "cell_type": "code",
   "execution_count": 12,
   "id": "41bdbd91-865f-4f7f-84bb-0e65a6d8e313",
   "metadata": {},
   "outputs": [
    {
     "name": "stdout",
     "output_type": "stream",
     "text": [
      "<class 'carla.libcarla.GnssMeasurement'>\n",
      "<class 'carla.libcarla.IMUMeasurement'>\n",
      "<class 'carla.libcarla.GnssMeasurement'>\n",
      "<class 'carla.libcarla.IMUMeasurement'>\n",
      "<class 'carla.libcarla.GnssMeasurement'>\n",
      "<class 'carla.libcarla.IMUMeasurement'>\n",
      "<class 'carla.libcarla.GnssMeasurement'>\n",
      "<class 'carla.libcarla.IMUMeasurement'>\n",
      "<class 'carla.libcarla.GnssMeasurement'>\n",
      "<class 'carla.libcarla.IMUMeasurement'>\n",
      "<class 'carla.libcarla.GnssMeasurement'>\n",
      "<class 'carla.libcarla.IMUMeasurement'>\n",
      "<class 'carla.libcarla.GnssMeasurement'>\n",
      "<class 'carla.libcarla.IMUMeasurement'>\n",
      "<class 'carla.libcarla.GnssMeasurement'>\n",
      "<class 'carla.libcarla.IMUMeasurement'>\n",
      "<class 'carla.libcarla.GnssMeasurement'>\n",
      "<class 'carla.libcarla.IMUMeasurement'>\n",
      "<class 'carla.libcarla.GnssMeasurement'>\n",
      "<class 'carla.libcarla.IMUMeasurement'>\n",
      "<class 'carla.libcarla.GnssMeasurement'>\n",
      "<class 'carla.libcarla.IMUMeasurement'>\n",
      "<class 'carla.libcarla.GnssMeasurement'>\n",
      "<class 'carla.libcarla.IMUMeasurement'>\n",
      "<class 'carla.libcarla.GnssMeasurement'>\n",
      "<class 'carla.libcarla.IMUMeasurement'>\n",
      "<class 'carla.libcarla.GnssMeasurement'>\n",
      "<class 'carla.libcarla.IMUMeasurement'>\n",
      "<class 'carla.libcarla.GnssMeasurement'>\n",
      "<class 'carla.libcarla.IMUMeasurement'>\n",
      "<class 'carla.libcarla.GnssMeasurement'>\n",
      "<class 'carla.libcarla.IMUMeasurement'>\n",
      "<class 'carla.libcarla.GnssMeasurement'>\n",
      "<class 'carla.libcarla.IMUMeasurement'>\n",
      "<class 'carla.libcarla.GnssMeasurement'>\n",
      "<class 'carla.libcarla.IMUMeasurement'>\n",
      "<class 'carla.libcarla.GnssMeasurement'>\n",
      "<class 'carla.libcarla.IMUMeasurement'>\n",
      "<class 'carla.libcarla.GnssMeasurement'>\n",
      "<class 'carla.libcarla.IMUMeasurement'>\n",
      "<class 'carla.libcarla.GnssMeasurement'>\n",
      "<class 'carla.libcarla.IMUMeasurement'>\n"
     ]
    }
   ],
   "source": [
    "# Start the camera saving data to disk\n",
    "# camera.listen(lambda data: process_img(data))\n",
    "# camera.listen(lambda image: image.save_to_disk('out/%06d.png' % image.frame))\n",
    "# radar.listen(lambda radar_data: print(radar_data))\n",
    "# lidar.listen(lambda lidar_data: print(lidar_data))\n",
    "\n",
    "#gnss.listen(lambda gnss_data: print(gnss_data))\n",
    "imu.listen(lambda imu_data: print(imu_data))\n",
    "\n",
    "# Extract key-value pairs using __dict__\n",
    "data = gnss.listen(lambda gnss_data: (gnss_data).__dict__)\n",
    "print(data)\n",
    "\n",
    "# print(\"type\")\n",
    "# print(type(gnss_data))\n",
    "# Convert the dictionary to a JSON string\n",
    "# gnss_dict = {gnss.listen(lambda gnss_data: print(gnss_data))}\n",
    "# imu_dict = {imu.listen(lambda imu_data: print(imu_data))}\n",
    "\n",
    "# json_gnss = json.dumps(gnss_dict, indent=4)\n",
    "# json_imu = json.dumps(imu_dict, indent=4)\n",
    "\n",
    "# Save the JSON string to a file\n",
    "#with open('measurement_data.json', 'w') as json_file:\n",
    "#    json_file.write(json_gnss)\n",
    "\n",
    "# with open('measurement_data.json', 'w') as json_file:\n",
    "#     json_file.write(json_imu)\n",
    "\n",
    "\n",
    "# print(\"Data has been converted to JSON and saved to measurement_data.json\")\n",
    "#time.sleep(60)"
   ]
  },
  {
   "cell_type": "code",
   "execution_count": 13,
   "id": "a5ec2768-00a5-48e8-8499-2a01061cc298",
   "metadata": {},
   "outputs": [],
   "source": [
    "# Stop the camera when we've recorded enough data\n",
    "camera.stop()\n",
    "radar.stop()\n",
    "gnss.stop()\n",
    "imu.stop()\n"
   ]
  }
 ],
 "metadata": {
  "kernelspec": {
   "display_name": "Python 3 (ipykernel)",
   "language": "python",
   "name": "python3"
  },
  "language_info": {
   "codemirror_mode": {
    "name": "ipython",
    "version": 3
   },
   "file_extension": ".py",
   "mimetype": "text/x-python",
   "name": "python",
   "nbconvert_exporter": "python",
   "pygments_lexer": "ipython3",
   "version": "3.8.10"
  },
  "toc-showcode": true
 },
 "nbformat": 4,
 "nbformat_minor": 5
}
