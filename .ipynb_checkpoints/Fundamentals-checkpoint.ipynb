{
 "cells": [
  {
   "cell_type": "code",
   "execution_count": 1,
   "id": "f39a397e-1c6a-4492-8cf6-88270ab30fb4",
   "metadata": {},
   "outputs": [
    {
     "name": "stdout",
     "output_type": "stream",
     "text": [
      "Requirement already satisfied: carla in c:\\users\\imiwu\\appdata\\local\\packages\\pythonsoftwarefoundation.python.3.8_qbz5n2kfra8p0\\localcache\\local-packages\\python38\\site-packages (0.9.15)\n",
      "Note: you may need to restart the kernel to use updated packages.\n"
     ]
    }
   ],
   "source": [
    "%pip install carla"
   ]
  },
  {
   "cell_type": "code",
   "execution_count": 2,
   "id": "2a25e871-c63d-47c7-9443-872d53c00dce",
   "metadata": {},
   "outputs": [],
   "source": [
    "# Import the CARLA Python API library and some utils\n",
    "import carla \n",
    "import math \n",
    "import random \n",
    "import time "
   ]
  },
  {
   "cell_type": "code",
   "execution_count": 3,
   "id": "aa8c85ee-1a54-4dc0-a79c-709228570d1a",
   "metadata": {},
   "outputs": [
    {
     "name": "stdout",
     "output_type": "stream",
     "text": [
      "['/Game/Carla/Maps/Town01', '/Game/Carla/Maps/Town01_Opt', '/Game/Carla/Maps/Town02', '/Game/Carla/Maps/Town02_Opt', '/Game/Carla/Maps/Town03', '/Game/Carla/Maps/Town03_Opt', '/Game/Carla/Maps/Town04', '/Game/Carla/Maps/Town04_Opt', '/Game/Carla/Maps/Town05', '/Game/Carla/Maps/Town05_Opt', '/Game/Carla/Maps/Town10HD', '/Game/Carla/Maps/Town10HD_Opt']\n"
     ]
    }
   ],
   "source": [
    "# Connect to the client and get the world object\n",
    "client = carla.Client('localhost', 2000) \n",
    "client.set_timeout(40.0)\n",
    "print(client.get_available_maps())\n",
    "world = client.get_world()\n",
    "\n"
   ]
  },
  {
   "cell_type": "code",
   "execution_count": 4,
   "id": "4dc96c16",
   "metadata": {},
   "outputs": [],
   "source": [
    "# world = client.load_world('/Game/Carla/Maps/Town10HD_Opt')"
   ]
  },
  {
   "cell_type": "code",
   "execution_count": 5,
   "id": "97cf1f3c",
   "metadata": {},
   "outputs": [],
   "source": [
    "# Trying to run CARLA without overlaoding the GPU\n",
    "settings = world.get_settings()\n",
    "settings.no_rendering_mode = True"
   ]
  },
  {
   "cell_type": "code",
   "execution_count": 6,
   "id": "42a1ddcc-d6df-4bbd-b904-15ed03739766",
   "metadata": {},
   "outputs": [],
   "source": [
    "# Get the blueprint library and the spawn points for the map\n",
    "bp_lib = world.get_blueprint_library() \n",
    "spawn_points = world.get_map().get_spawn_points() "
   ]
  },
  {
   "cell_type": "code",
   "execution_count": 7,
   "id": "71e73030-a065-4ac8-9bdb-dba8006d68d7",
   "metadata": {},
   "outputs": [],
   "source": [
    "# Get the blueprint for the vehicle you want\n",
    "vehicle_bp = bp_lib.find('vehicle.lincoln.mkz_2020') \n",
    "\n",
    "# Try spawning the vehicle at a randomly chosen spawn point\n",
    "vehicle = world.try_spawn_actor(vehicle_bp, random.choice(spawn_points))"
   ]
  },
  {
   "cell_type": "code",
   "execution_count": 8,
   "id": "c765d8ae-09cb-4790-aeaf-802626753d9e",
   "metadata": {},
   "outputs": [],
   "source": [
    "# Move the spectator behind the vehicle \n",
    "spectator = world.get_spectator() \n",
    "transform = carla.Transform(vehicle.get_transform().transform(carla.Location(x=-4,z=2.5)),vehicle.get_transform().rotation) \n",
    "spectator.set_transform(transform) "
   ]
  },
  {
   "cell_type": "code",
   "execution_count": 9,
   "id": "e27a72f9-ada0-43a2-8f73-037d974b915a",
   "metadata": {},
   "outputs": [],
   "source": [
    "# Add traffic to the simulation\n",
    "for i in range(30): \n",
    "    vehicle_bp = random.choice(bp_lib.filter('vehicle')) \n",
    "    npc = world.try_spawn_actor(vehicle_bp, random.choice(spawn_points)) "
   ]
  },
  {
   "cell_type": "code",
   "execution_count": 10,
   "id": "6fac134a-68c5-42b0-a2a7-f344e6a17d8c",
   "metadata": {},
   "outputs": [],
   "source": [
    "# Set the all vehicles in motion using the Traffic Manager\n",
    "for v in world.get_actors().filter('*vehicle*'): \n",
    "    v.set_autopilot(True) "
   ]
  },
  {
   "cell_type": "code",
   "execution_count": 12,
   "id": "f7df2513-eda0-4d59-b216-aa91b928dc1a",
   "metadata": {},
   "outputs": [],
   "source": [
    "# Spawn an RGB cammera with an offset from the vehicle center\n",
    "camera_bp = bp_lib.find('sensor.camera.rgb') \n",
    "camera_bp.set_attribute('image_size_x', '640')\n",
    "camera_bp.set_attribute('image_size_y', '640')\n",
    "camera_bp.set_attribute('sensor_tick', '10')\n",
    "camera_init_trans = carla.Transform(carla.Location(z=2))\n",
    "camera = world.spawn_actor(camera_bp, camera_init_trans, attach_to=vehicle, attachment_type=carla.AttachmentType.Rigid)\n",
    "\n",
    "radar_bp = bp_lib.find('sensor.other.radar') \n",
    "radar_bp.set_attribute('horizontal_fov', '35')\n",
    "radar_bp.set_attribute('vertical_fov', '20')\n",
    "radar_bp.set_attribute('range', '30')\n",
    "radar_bp.set_attribute('sensor_tick', '10')\n",
    "radar_init_trans = carla.Transform(carla.Location(x=0.5, z=1.0))\n",
    "radar = world.spawn_actor(radar_bp, radar_init_trans, attach_to=vehicle, attachment_type=carla.AttachmentType.Rigid)\n",
    "\n",
    "lidar_bp = bp_lib.find('sensor.lidar.ray_cast') \n",
    "lidar_bp.set_attribute('range', '30')\n",
    "lidar_bp.set_attribute('sensor_tick', '10')\n",
    "lidar_init_trans = carla.Transform(carla.Location(x=0.5, z=1.0))\n",
    "lidar = world.spawn_actor(lidar_bp, lidar_init_trans, attach_to=vehicle, attachment_type=carla.AttachmentType.Rigid)"
   ]
  },
  {
   "cell_type": "code",
   "execution_count": 13,
   "id": "41bdbd91-865f-4f7f-84bb-0e65a6d8e313",
   "metadata": {},
   "outputs": [
    {
     "name": "stdout",
     "output_type": "stream",
     "text": [
      "RadarMeasurement(frame=2700, timestamp=130.998313, point_count=22)\n",
      "LidarMeasurement(frame=2702, timestamp=131.137812, number_of_points=2665)\n",
      "RadarMeasurement(frame=3000, timestamp=140.989397, point_count=17)\n",
      "LidarMeasurement(frame=3002, timestamp=141.116483, number_of_points=2298)\n",
      "RadarMeasurement(frame=3306, timestamp=151.007651, point_count=16)\n",
      "LidarMeasurement(frame=3307, timestamp=151.101842, number_of_points=2328)\n"
     ]
    }
   ],
   "source": [
    "# Start the camera saving data to disk (Causes fatal error)\n",
    "camera.listen(lambda image: image.save_to_disk('out/%06d.png' % image.frame))\n",
    "radar.listen(lambda radar_data: print(radar_data))\n",
    "lidar.listen(lambda lidar_data: print(lidar_data))"
   ]
  },
  {
   "cell_type": "code",
   "execution_count": 15,
   "id": "a5ec2768-00a5-48e8-8499-2a01061cc298",
   "metadata": {},
   "outputs": [
    {
     "ename": "",
     "evalue": "",
     "output_type": "error",
     "traceback": [
      "\u001b[1;31mThe Kernel crashed while executing code in the current cell or a previous cell. \n",
      "\u001b[1;31mPlease review the code in the cell(s) to identify a possible cause of the failure. \n",
      "\u001b[1;31mClick <a href='https://aka.ms/vscodeJupyterKernelCrash'>here</a> for more info. \n",
      "\u001b[1;31mView Jupyter <a href='command:jupyter.viewOutput'>log</a> for further details."
     ]
    }
   ],
   "source": [
    "# Stop the camera when we've recorded enough data\n",
    "camera.stop()\n",
    "radar.stop()\n",
    "lidar.stop()"
   ]
  }
 ],
 "metadata": {
  "kernelspec": {
   "display_name": "Python 3 (ipykernel)",
   "language": "python",
   "name": "python3"
  },
  "language_info": {
   "codemirror_mode": {
    "name": "ipython",
    "version": 3
   },
   "file_extension": ".py",
   "mimetype": "text/x-python",
   "name": "python",
   "nbconvert_exporter": "python",
   "pygments_lexer": "ipython3",
   "version": "3.8.10"
  },
  "toc-showcode": true
 },
 "nbformat": 4,
 "nbformat_minor": 5
}
