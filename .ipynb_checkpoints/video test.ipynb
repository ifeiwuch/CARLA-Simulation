{
 "cells": [
  {
   "cell_type": "code",
   "execution_count": 1,
   "metadata": {},
   "outputs": [
    {
     "name": "stdout",
     "output_type": "stream",
     "text": [
      "Requirement already satisfied: carla in c:\\users\\imiwu\\appdata\\local\\packages\\pythonsoftwarefoundation.python.3.8_qbz5n2kfra8p0\\localcache\\local-packages\\python38\\site-packages (0.9.15)\n",
      "Note: you may need to restart the kernel to use updated packages.\n",
      "Requirement already satisfied: numpy in c:\\users\\imiwu\\appdata\\local\\packages\\pythonsoftwarefoundation.python.3.8_qbz5n2kfra8p0\\localcache\\local-packages\\python38\\site-packages (1.24.4)\n",
      "Note: you may need to restart the kernel to use updated packages.\n",
      "Requirement already satisfied: opencv-python in c:\\users\\imiwu\\appdata\\local\\packages\\pythonsoftwarefoundation.python.3.8_qbz5n2kfra8p0\\localcache\\local-packages\\python38\\site-packages (4.10.0.84)\n",
      "Requirement already satisfied: numpy>=1.17.0 in c:\\users\\imiwu\\appdata\\local\\packages\\pythonsoftwarefoundation.python.3.8_qbz5n2kfra8p0\\localcache\\local-packages\\python38\\site-packages (from opencv-python) (1.24.4)\n",
      "Note: you may need to restart the kernel to use updated packages.\n"
     ]
    }
   ],
   "source": [
    "%pip install carla\n",
    "%pip install numpy\n",
    "%pip install opencv-python"
   ]
  },
  {
   "cell_type": "code",
   "execution_count": 1,
   "metadata": {},
   "outputs": [
    {
     "name": "stdout",
     "output_type": "stream",
     "text": [
      "ActorBlueprint(id=vehicle.tesla.model3,tags=[vehicle, tesla, model3])\n",
      "destroying actors\n",
      "done.\n"
     ]
    }
   ],
   "source": [
    "import glob\n",
    "import os\n",
    "import sys\n",
    "try:\n",
    "    sys.path.append(glob.glob('../carla/dist/carla-*%d.%d-%s.egg' % (\n",
    "        sys.version_info.major,\n",
    "        sys.version_info.minor,\n",
    "        'win-amd64' if os.name == 'nt' else 'linux-x86_64'))[0])\n",
    "except IndexError:\n",
    "    pass\n",
    "import carla\n",
    "\n",
    "import random\n",
    "import time\n",
    "import numpy as np\n",
    "import cv2\n",
    "\n",
    "IM_WIDTH = 640\n",
    "IM_HEIGHT = 640\n",
    "\n",
    "\n",
    "def process_img(image):\n",
    "    i = np.array(image.raw_data)\n",
    "    i2 = i.reshape((IM_HEIGHT, IM_WIDTH, 4))\n",
    "    i3 = i2[:, :, :3]\n",
    "    cv2.imshow(\"\", i3)\n",
    "    cv2.waitKey(1)\n",
    "    return i3/255.0\n",
    "\n",
    "\n",
    "actor_list = []\n",
    "try:\n",
    "    client = carla.Client('localhost', 2000)\n",
    "    client.set_timeout(40.0)\n",
    "\n",
    "    world = client.get_world()\n",
    "\n",
    "    blueprint_library = world.get_blueprint_library()\n",
    "\n",
    "    bp = blueprint_library.filter('model3')[0]\n",
    "    print(bp)\n",
    "\n",
    "    spawn_point = random.choice(world.get_map().get_spawn_points())\n",
    "\n",
    "    vehicle = world.spawn_actor(bp, spawn_point)\n",
    "    vehicle.apply_control(carla.VehicleControl(throttle=1.0, steer=0.0))\n",
    "    # vehicle.set_autopilot(True)  # if you just wanted some NPCs to drive.\n",
    "\n",
    "    actor_list.append(vehicle)\n",
    "\n",
    "    # https://carla.readthedocs.io/en/latest/cameras_and_sensors\n",
    "    # get the blueprint for this sensor\n",
    "    blueprint = blueprint_library.find('sensor.camera.rgb')\n",
    "    # change the dimensions of the image\n",
    "    blueprint.set_attribute('image_size_x', f'{IM_WIDTH}')\n",
    "    blueprint.set_attribute('image_size_y', f'{IM_HEIGHT}')\n",
    "    blueprint.set_attribute('fov', '110')\n",
    "\n",
    "    # Adjust sensor relative to vehicle\n",
    "    spawn_point = carla.Transform(carla.Location(x=2.5, z=0.7))\n",
    "\n",
    "    # spawn the sensor and attach to vehicle.\n",
    "    sensor = world.spawn_actor(blueprint, spawn_point, attach_to=vehicle)\n",
    "\n",
    "    # add sensor to list of actors\n",
    "    actor_list.append(sensor)\n",
    "\n",
    "    # do something with this sensor\n",
    "    sensor.listen(lambda data: process_img(data))\n",
    "\n",
    "    time.sleep(5)\n",
    "\n",
    "finally:\n",
    "    print('destroying actors')\n",
    "    for actor in actor_list:\n",
    "        actor.destroy()\n",
    "    print('done.')"
   ]
  }
 ],
 "metadata": {
  "kernelspec": {
   "display_name": "Python 3",
   "language": "python",
   "name": "python3"
  },
  "language_info": {
   "codemirror_mode": {
    "name": "ipython",
    "version": 3
   },
   "file_extension": ".py",
   "mimetype": "text/x-python",
   "name": "python",
   "nbconvert_exporter": "python",
   "pygments_lexer": "ipython3",
   "version": "3.8.10"
  }
 },
 "nbformat": 4,
 "nbformat_minor": 2
}
